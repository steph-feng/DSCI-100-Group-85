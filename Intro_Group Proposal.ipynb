{
 "cells": [
  {
   "cell_type": "markdown",
   "id": "bc62e165-2fc4-48ba-a351-a1bd175e72d0",
   "metadata": {},
   "source": [
    "**DSCI 100: GROUP PROJECT PROPOSAL**"
   ]
  },
  {
   "cell_type": "markdown",
   "id": "365c5e00-6673-442f-aab8-9aa3080a2457",
   "metadata": {},
   "source": [
    "**I. Introduction**"
   ]
  },
  {
   "cell_type": "markdown",
   "id": "0064b713-cbb9-4341-8505-bf15a5068466",
   "metadata": {},
   "source": [
    "This past year, Canada’s inflation rate reached a 30-year high of 5.7% (Evans, 2022). In turn, the increase in cost of living has caused 6.4% increase in credit balances (Senett, 2022). Without a comparable increase in wages, Canadians are at a greater risk of credit card default. Credit default occurs when an individual misses the minimum payment due for six months (Bucci, 2022). Credit default has vast ramifications including weak credit scores and lawsuits.\n",
    "\n",
    "By exploring precursors to credit default, individuals become equipped to identify warning signs. The following question arises: will an individual default on their credit payment? \n",
    "\n",
    "The “Default of Credit Card Clients” dataset from the UC Irvine Machine Learning Repository allows us to answer this question. It provides data on an individual’s age, sex, highest level of education obtained, marital status, amount of given credit, history of past payments, bill statement amounts, previous payment amounts, and most importantly, whether this individual had defaulted. "
   ]
  },
  {
   "cell_type": "markdown",
   "id": "a760e118-34f9-4f6b-a57f-8d8c52d70e89",
   "metadata": {},
   "source": [
    "**II. Preliminary Exploratory Data Analysis**"
   ]
  },
  {
   "cell_type": "code",
   "execution_count": 8,
   "id": "3dee52c6-07d3-4274-95c7-7656938fe946",
   "metadata": {},
   "outputs": [],
   "source": [
    "library(repr)\n",
    "library(tidyverse)\n",
    "library(tidymodels)\n",
    "library(dplyr)\n",
    "library(ggplot2)\n",
    "library(RColorBrewer)\n",
    "options(repr.matrix.max.rows = 6)"
   ]
  },
  {
   "cell_type": "markdown",
   "id": "bcbffbc5-f844-4652-be0c-5e3d99187ad3",
   "metadata": {},
   "source": [
    "**III. Method**"
   ]
  },
  {
   "cell_type": "markdown",
   "id": "1ad2fec9-935f-42bc-8800-191ba44a1877",
   "metadata": {},
   "source": [
    "#Stephanie \n",
    "\n",
    "Explain how you will conduct either your data analysis and which variables/columns you will use. \n",
    "Note - you do not need to use all variables/columns that exist in the raw data set. \n",
    "In fact, that's often not a good idea. For each variable think: is this a useful variable for prediction?\n",
    "\n",
    "Describe at least one way that you will visualize the results\n"
   ]
  },
  {
   "cell_type": "markdown",
   "id": "a09a99ca-8a8e-449a-97a5-ec5fee1f28e2",
   "metadata": {},
   "source": [
    "**VI. Expected outcomes and significance**"
   ]
  },
  {
   "cell_type": "markdown",
   "id": "31942c4c-4d54-422d-8ad4-1da11e7dba97",
   "metadata": {},
   "source": [
    "#Aaron\n",
    "\n",
    "What do you expect to find?\n",
    "\n",
    "What impact could such findings have?\n",
    "\n",
    "What future questions could this lead to?"
   ]
  },
  {
   "cell_type": "code",
   "execution_count": null,
   "id": "28df116a-ea0f-4232-9ac7-3140a616f502",
   "metadata": {},
   "outputs": [],
   "source": []
  }
 ],
 "metadata": {
  "kernelspec": {
   "display_name": "R",
   "language": "R",
   "name": "ir"
  },
  "language_info": {
   "codemirror_mode": "r",
   "file_extension": ".r",
   "mimetype": "text/x-r-source",
   "name": "R",
   "pygments_lexer": "r",
   "version": "4.1.3"
  }
 },
 "nbformat": 4,
 "nbformat_minor": 5
}
