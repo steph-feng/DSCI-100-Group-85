{
 "cells": [
  {
   "cell_type": "markdown",
   "id": "bc62e165-2fc4-48ba-a351-a1bd175e72d0",
   "metadata": {},
   "source": [
    "**DSCI 100: GROUP PROJECT PROPOSAL**"
   ]
  },
  {
   "cell_type": "markdown",
   "id": "365c5e00-6673-442f-aab8-9aa3080a2457",
   "metadata": {},
   "source": [
    "**I. Introduction**"
   ]
  },
  {
   "cell_type": "markdown",
   "id": "0064b713-cbb9-4341-8505-bf15a5068466",
   "metadata": {},
   "source": [
    "This past year, Canada’s inflation rate reached a 30-year high of 5.7% (Evans, 2022). In turn, the increase in cost of living has caused 6.4% increase in credit balances (Senett, 2022). Without a comparable increase in wages, Canadians are at a greater risk of credit card default. Credit default occurs when an individual misses the minimum payment due for six months (Bucci, 2022). Credit default has vast ramifications including weak credit scores and lawsuits.\n",
    "\n",
    "By exploring precursors to credit default, individuals become equipped to identify warning signs. The following question arises: will an individual default on their credit payment? \n",
    "\n",
    "The “Default of Credit Card Clients” dataset from the UC Irvine Machine Learning Repository allows us to answer this question. It provides data on an individual’s age, sex, highest level of education obtained, marital status, amount of given credit, history of past payments, bill statement amounts, previous payment amounts, and most importantly, whether this individual had defaulted. "
   ]
  },
  {
   "cell_type": "markdown",
   "id": "a760e118-34f9-4f6b-a57f-8d8c52d70e89",
   "metadata": {},
   "source": [
    "**II. Preliminary Exploratory Data Analysis**"
   ]
  },
  {
   "cell_type": "code",
   "execution_count": 1,
   "id": "3dee52c6-07d3-4274-95c7-7656938fe946",
   "metadata": {},
   "outputs": [
    {
     "name": "stderr",
     "output_type": "stream",
     "text": [
      "── \u001b[1mAttaching packages\u001b[22m ─────────────────────────────────────── tidyverse 1.3.1 ──\n",
      "\n",
      "\u001b[32m✔\u001b[39m \u001b[34mggplot2\u001b[39m 3.3.6     \u001b[32m✔\u001b[39m \u001b[34mpurrr  \u001b[39m 0.3.4\n",
      "\u001b[32m✔\u001b[39m \u001b[34mtibble \u001b[39m 3.1.7     \u001b[32m✔\u001b[39m \u001b[34mdplyr  \u001b[39m 1.0.9\n",
      "\u001b[32m✔\u001b[39m \u001b[34mtidyr  \u001b[39m 1.2.0     \u001b[32m✔\u001b[39m \u001b[34mstringr\u001b[39m 1.4.0\n",
      "\u001b[32m✔\u001b[39m \u001b[34mreadr  \u001b[39m 2.1.2     \u001b[32m✔\u001b[39m \u001b[34mforcats\u001b[39m 0.5.1\n",
      "\n",
      "── \u001b[1mConflicts\u001b[22m ────────────────────────────────────────── tidyverse_conflicts() ──\n",
      "\u001b[31m✖\u001b[39m \u001b[34mdplyr\u001b[39m::\u001b[32mfilter()\u001b[39m masks \u001b[34mstats\u001b[39m::filter()\n",
      "\u001b[31m✖\u001b[39m \u001b[34mdplyr\u001b[39m::\u001b[32mlag()\u001b[39m    masks \u001b[34mstats\u001b[39m::lag()\n",
      "\n",
      "── \u001b[1mAttaching packages\u001b[22m ────────────────────────────────────── tidymodels 1.0.0 ──\n",
      "\n",
      "\u001b[32m✔\u001b[39m \u001b[34mbroom       \u001b[39m 1.0.0     \u001b[32m✔\u001b[39m \u001b[34mrsample     \u001b[39m 1.0.0\n",
      "\u001b[32m✔\u001b[39m \u001b[34mdials       \u001b[39m 1.0.0     \u001b[32m✔\u001b[39m \u001b[34mtune        \u001b[39m 1.0.0\n",
      "\u001b[32m✔\u001b[39m \u001b[34minfer       \u001b[39m 1.0.2     \u001b[32m✔\u001b[39m \u001b[34mworkflows   \u001b[39m 1.0.0\n",
      "\u001b[32m✔\u001b[39m \u001b[34mmodeldata   \u001b[39m 1.0.0     \u001b[32m✔\u001b[39m \u001b[34mworkflowsets\u001b[39m 1.0.0\n",
      "\u001b[32m✔\u001b[39m \u001b[34mparsnip     \u001b[39m 1.0.0     \u001b[32m✔\u001b[39m \u001b[34myardstick   \u001b[39m 1.0.0\n",
      "\u001b[32m✔\u001b[39m \u001b[34mrecipes     \u001b[39m 1.0.1     \n",
      "\n",
      "── \u001b[1mConflicts\u001b[22m ───────────────────────────────────────── tidymodels_conflicts() ──\n",
      "\u001b[31m✖\u001b[39m \u001b[34mscales\u001b[39m::\u001b[32mdiscard()\u001b[39m masks \u001b[34mpurrr\u001b[39m::discard()\n",
      "\u001b[31m✖\u001b[39m \u001b[34mdplyr\u001b[39m::\u001b[32mfilter()\u001b[39m   masks \u001b[34mstats\u001b[39m::filter()\n",
      "\u001b[31m✖\u001b[39m \u001b[34mrecipes\u001b[39m::\u001b[32mfixed()\u001b[39m  masks \u001b[34mstringr\u001b[39m::fixed()\n",
      "\u001b[31m✖\u001b[39m \u001b[34mdplyr\u001b[39m::\u001b[32mlag()\u001b[39m      masks \u001b[34mstats\u001b[39m::lag()\n",
      "\u001b[31m✖\u001b[39m \u001b[34myardstick\u001b[39m::\u001b[32mspec()\u001b[39m masks \u001b[34mreadr\u001b[39m::spec()\n",
      "\u001b[31m✖\u001b[39m \u001b[34mrecipes\u001b[39m::\u001b[32mstep()\u001b[39m   masks \u001b[34mstats\u001b[39m::step()\n",
      "\u001b[34m•\u001b[39m Search for functions across packages at \u001b[32mhttps://www.tidymodels.org/find/\u001b[39m\n",
      "\n"
     ]
    },
    {
     "ename": "ERROR",
     "evalue": "\u001b[1m\u001b[33mError\u001b[39m in \u001b[1m\u001b[1m`chr_as_locations()`:\u001b[22m\n\u001b[33m!\u001b[39m Can't rename columns that don't exist.\n\u001b[31m✖\u001b[39m Column `BILL_AMT1` doesn't exist.\n",
     "output_type": "error",
     "traceback": [
      "\u001b[1m\u001b[33mError\u001b[39m in \u001b[1m\u001b[1m`chr_as_locations()`:\u001b[22m\n\u001b[33m!\u001b[39m Can't rename columns that don't exist.\n\u001b[31m✖\u001b[39m Column `BILL_AMT1` doesn't exist.\nTraceback:\n",
      "1. mutate(slice_sample(rename(credit_data, BILL_SEPT = BILL_AMT1, \n .     BILL_AUG = BILL_AMT2, BILL_JUL = BILL_AMT3, BILL_JUN = BILL_AMT4, \n .     BILL_MAY = BILL_AMT5, BILL_APR = BILL_AMT6, PAY_SEPT = PAY_AMT1, \n .     PAY_AUG = PAY_AMT2, PAY_JUL = PAY_AMT3, PAY_JUN = PAY_AMT4, \n .     PAY_MAY = PAY_AMT5, PAY_APR = PAY_AMT6, DEFAULT = \"default payment next month\"), \n .     n = 1000), DEFAULT = as_factor(DEFAULT))",
      "2. slice_sample(rename(credit_data, BILL_SEPT = BILL_AMT1, BILL_AUG = BILL_AMT2, \n .     BILL_JUL = BILL_AMT3, BILL_JUN = BILL_AMT4, BILL_MAY = BILL_AMT5, \n .     BILL_APR = BILL_AMT6, PAY_SEPT = PAY_AMT1, PAY_AUG = PAY_AMT2, \n .     PAY_JUL = PAY_AMT3, PAY_JUN = PAY_AMT4, PAY_MAY = PAY_AMT5, \n .     PAY_APR = PAY_AMT6, DEFAULT = \"default payment next month\"), \n .     n = 1000)",
      "3. rename(credit_data, BILL_SEPT = BILL_AMT1, BILL_AUG = BILL_AMT2, \n .     BILL_JUL = BILL_AMT3, BILL_JUN = BILL_AMT4, BILL_MAY = BILL_AMT5, \n .     BILL_APR = BILL_AMT6, PAY_SEPT = PAY_AMT1, PAY_AUG = PAY_AMT2, \n .     PAY_JUL = PAY_AMT3, PAY_JUN = PAY_AMT4, PAY_MAY = PAY_AMT5, \n .     PAY_APR = PAY_AMT6, DEFAULT = \"default payment next month\")",
      "4. rename.data.frame(credit_data, BILL_SEPT = BILL_AMT1, BILL_AUG = BILL_AMT2, \n .     BILL_JUL = BILL_AMT3, BILL_JUN = BILL_AMT4, BILL_MAY = BILL_AMT5, \n .     BILL_APR = BILL_AMT6, PAY_SEPT = PAY_AMT1, PAY_AUG = PAY_AMT2, \n .     PAY_JUL = PAY_AMT3, PAY_JUN = PAY_AMT4, PAY_MAY = PAY_AMT5, \n .     PAY_APR = PAY_AMT6, DEFAULT = \"default payment next month\")",
      "5. tidyselect::eval_rename(expr(c(...)), .data)",
      "6. rename_impl(data, names(data), as_quosure(expr, env), strict = strict, \n .     name_spec = name_spec, error_call = error_call)",
      "7. eval_select_impl(x, names, {\n .     {\n .         sel\n .     }\n . }, strict = strict, name_spec = name_spec, type = \"rename\", error_call = error_call)",
      "8. with_subscript_errors(vars_select_eval(vars, expr, strict = strict, \n .     data = x, name_spec = name_spec, uniquely_named = uniquely_named, \n .     allow_rename = allow_rename, type = type, error_call = error_call), \n .     type = type)",
      "9. tryCatch(with_entraced_errors(expr), vctrs_error_subscript = function(cnd) {\n .     cnd$subscript_action <- subscript_action(type)\n .     cnd$subscript_elt <- \"column\"\n .     cnd_signal(cnd)\n . })",
      "10. tryCatchList(expr, classes, parentenv, handlers)",
      "11. tryCatchOne(expr, names, parentenv, handlers[[1L]])",
      "12. value[[3L]](cond)",
      "13. cnd_signal(cnd)",
      "14. signal_abort(cnd)"
     ]
    }
   ],
   "source": [
    "library(repr)\n",
    "library(tidyverse)\n",
    "library(tidymodels)\n",
    "library(dplyr)\n",
    "library(ggplot2)\n",
    "library(RColorBrewer)\n",
    "options(repr.matrix.max.rows = 6)\n",
    "\n",
    "set.seed(1)\n",
    "\n",
    "tidy_credit_data <- credit_data |>\n",
    "rename(BILL_SEPT = BILL_AMT1,\n",
    "       BILL_AUG = BILL_AMT2,\n",
    "       BILL_JUL = BILL_AMT3,\n",
    "       BILL_JUN = BILL_AMT4,\n",
    "       BILL_MAY = BILL_AMT5,\n",
    "       BILL_APR = BILL_AMT6,\n",
    "       PAY_SEPT = PAY_AMT1,\n",
    "       PAY_AUG = PAY_AMT2,\n",
    "       PAY_JUL = PAY_AMT3,\n",
    "       PAY_JUN = PAY_AMT4,\n",
    "       PAY_MAY = PAY_AMT5,\n",
    "       PAY_APR = PAY_AMT6,\n",
    "       DEFAULT = \"default payment next month\") |>\n",
    "#select(BILL_SEPT:DEFAULT) |>\n",
    "slice_sample(n = 1000) |>\n",
    "mutate(DEFAULT= as_factor(DEFAULT)) \n",
    "\n",
    "\n",
    "credit_split <- initial_split(tidy_credit_data,\n",
    "                              prop = 0.75, \n",
    "                              strata = DEFAULT)\n",
    "credit_train <- training(credit_split)\n",
    "credit_test <- testing (credit_split)\n",
    "\n",
    "credit_train\n",
    "glimpse(credit_train)\n",
    "\n",
    "num_obs <- nrow(credit_train)\n",
    "credit_train |>\n",
    "group_by(DEFAULT) |>\n",
    "summarize(count = n(), percentage = n() / num_obs * 100)\n",
    "\n",
    "options(repr.plot.width = 15, repr.plot.height = 10)\n",
    "billsept_paysempt <- credit_train |>\n",
    "ggplot(aes(x = BILL_SEPT, y = PAY_SEPT, color = DEFAULT)) +\n",
    "geom_point(alpha = 1.0) +\n",
    "labs(x = \"September Bill Statement\", \n",
    "     y = \"September Previous Payment\", \n",
    "     color = \"Default Payment\") +\n",
    "theme(text = element_text(size = 25)) \n",
    "\n",
    "billsept_paysempt\n",
    "\n"
   ]
  },
  {
   "cell_type": "markdown",
   "id": "bcbffbc5-f844-4652-be0c-5e3d99187ad3",
   "metadata": {},
   "source": [
    "**III. Method**"
   ]
  },
  {
   "cell_type": "markdown",
   "id": "1ad2fec9-935f-42bc-8800-191ba44a1877",
   "metadata": {},
   "source": [
    "#Stephanie \n",
    "\n",
    "Explain how you will conduct either your data analysis and which variables/columns you will use. \n",
    "Note - you do not need to use all variables/columns that exist in the raw data set. \n",
    "In fact, that's often not a good idea. For each variable think: is this a useful variable for prediction?\n",
    "\n",
    "Describe at least one way that you will visualize the results\n"
   ]
  },
  {
   "cell_type": "markdown",
   "id": "a09a99ca-8a8e-449a-97a5-ec5fee1f28e2",
   "metadata": {},
   "source": [
    "**VI. Expected outcomes and significance**"
   ]
  },
  {
   "cell_type": "markdown",
   "id": "31942c4c-4d54-422d-8ad4-1da11e7dba97",
   "metadata": {},
   "source": [
    "#Aaron\n",
    "\n",
    "What do you expect to find?\n",
    "\n",
    "What impact could such findings have?\n",
    "\n",
    "What future questions could this lead to?"
   ]
  },
  {
   "cell_type": "code",
   "execution_count": null,
   "id": "28df116a-ea0f-4232-9ac7-3140a616f502",
   "metadata": {},
   "outputs": [],
   "source": []
  }
 ],
 "metadata": {
  "kernelspec": {
   "display_name": "R",
   "language": "R",
   "name": "ir"
  },
  "language_info": {
   "codemirror_mode": "r",
   "file_extension": ".r",
   "mimetype": "text/x-r-source",
   "name": "R",
   "pygments_lexer": "r",
   "version": "4.1.3"
  }
 },
 "nbformat": 4,
 "nbformat_minor": 5
}
