{
 "cells": [
  {
   "cell_type": "markdown",
   "id": "bc62e165-2fc4-48ba-a351-a1bd175e72d0",
   "metadata": {},
   "source": [
    "**DSCI 100: GROUP PROJECT PROPOSAL**"
   ]
  },
  {
   "cell_type": "code",
   "execution_count": 8,
   "id": "3dee52c6-07d3-4274-95c7-7656938fe946",
   "metadata": {},
   "outputs": [],
   "source": [
    "library(repr)\n",
    "library(tidyverse)\n",
    "library(tidymodels)\n",
    "library(dplyr)\n",
    "library(ggplot2)\n",
    "library(RColorBrewer)\n",
    "options(repr.matrix.max.rows = 6)"
   ]
  },
  {
   "cell_type": "code",
   "execution_count": null,
   "id": "a875e9ee-b059-409c-9b1c-9aedf880d278",
   "metadata": {},
   "outputs": [],
   "source": []
  }
 ],
 "metadata": {
  "kernelspec": {
   "display_name": "R",
   "language": "R",
   "name": "ir"
  },
  "language_info": {
   "codemirror_mode": "r",
   "file_extension": ".r",
   "mimetype": "text/x-r-source",
   "name": "R",
   "pygments_lexer": "r",
   "version": "4.1.3"
  }
 },
 "nbformat": 4,
 "nbformat_minor": 5
}
